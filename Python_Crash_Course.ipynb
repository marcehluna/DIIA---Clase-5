{
  "cells": [
    {
      "cell_type": "markdown",
      "metadata": {
        "id": "sLr9pWlRIAne"
      },
      "source": [
        "# Python Crash Course\n",
        "____\n",
        "En este primer apartado visitaremos los siguientes conceptos elementales del lenguaje de programación que vamos a usar durante todo el curso:\n",
        "\n",
        "* Tipos de datos\n",
        "    * Números\n",
        "    * Cadenas\n",
        "    * Printing\n",
        "    * Listas\n",
        "    * Dictionarios\n",
        "    * Booleanos\n",
        "    * Tuplas\n",
        "    * Sets\n",
        "* Operadores de comparación\n",
        "* Operadores de condicionalidad\n",
        "* Bucles for\n",
        "* Bucles while\n",
        "* range()\n",
        "* Listas de comprensión\n",
        "* Funciones\n",
        "* Expresiones lambda\n",
        "* Mapeado y filtrado\n",
        "* Métodos\n",
        "____"
      ]
    },
    {
      "cell_type": "markdown",
      "metadata": {
        "id": "meILnM-ZIAnj"
      },
      "source": [
        "## Tipos de datos"
      ]
    },
    {
      "cell_type": "markdown",
      "metadata": {
        "id": "Vj3ObLmlKqPH"
      },
      "source": [
        "### Números"
      ]
    },
    {
      "cell_type": "markdown",
      "metadata": {
        "id": "3sCsX6nMMeRb"
      },
      "source": [
        "Forman parte del tipo de dato más básico, y con ellos podemos realizar todas las operaciones elementales, tales como:"
      ]
    },
    {
      "cell_type": "markdown",
      "metadata": {
        "id": "ZXi2ok1sJV1K"
      },
      "source": [
        "Sumas"
      ]
    },
    {
      "cell_type": "code",
      "execution_count": null,
      "metadata": {
        "colab": {
          "base_uri": "https://localhost:8080/"
        },
        "id": "8f2ZbA7RIAnj",
        "outputId": "e84f9f13-ac93-416e-c22f-ef079d9db884"
      },
      "outputs": [
        {
          "output_type": "execute_result",
          "data": {
            "text/plain": [
              "11"
            ]
          },
          "metadata": {},
          "execution_count": 2
        }
      ],
      "source": [
        "1 + 10"
      ]
    },
    {
      "cell_type": "markdown",
      "metadata": {
        "id": "xxy2ZzO0JWxt"
      },
      "source": [
        "Productos"
      ]
    },
    {
      "cell_type": "code",
      "execution_count": null,
      "metadata": {
        "colab": {
          "base_uri": "https://localhost:8080/"
        },
        "id": "cR5KO2OsIAnk",
        "outputId": "88346812-1e57-4309-bf8f-73eda3b5179a"
      },
      "outputs": [
        {
          "output_type": "execute_result",
          "data": {
            "text/plain": [
              "3"
            ]
          },
          "metadata": {},
          "execution_count": 3
        }
      ],
      "source": [
        "1 * 3"
      ]
    },
    {
      "cell_type": "markdown",
      "metadata": {
        "id": "X5r0kxIYJXrc"
      },
      "source": [
        "Divisiones"
      ]
    },
    {
      "cell_type": "code",
      "execution_count": null,
      "metadata": {
        "colab": {
          "base_uri": "https://localhost:8080/"
        },
        "id": "OW1zRT48IAnl",
        "outputId": "6ed9bace-c7b1-44b2-898f-bde7b5aa6e5c"
      },
      "outputs": [
        {
          "output_type": "execute_result",
          "data": {
            "text/plain": [
              "0.5"
            ]
          },
          "metadata": {},
          "execution_count": 4
        }
      ],
      "source": [
        "1 / 2"
      ]
    },
    {
      "cell_type": "markdown",
      "metadata": {
        "id": "LTz1xzcmJYcK"
      },
      "source": [
        "Potencias"
      ]
    },
    {
      "cell_type": "code",
      "execution_count": null,
      "metadata": {
        "colab": {
          "base_uri": "https://localhost:8080/"
        },
        "id": "89xOn97oIAnl",
        "outputId": "3a7e4d23-c1e9-4140-be4b-7a2b9c87dbd8"
      },
      "outputs": [
        {
          "output_type": "execute_result",
          "data": {
            "text/plain": [
              "16"
            ]
          },
          "metadata": {},
          "execution_count": 5
        }
      ],
      "source": [
        "2 ** 4"
      ]
    },
    {
      "cell_type": "markdown",
      "metadata": {
        "id": "ZYsX2-IFJZn5"
      },
      "source": [
        "Congruencias modulares: Dado un cierto número natural *n*, es de gran interés en muchos problemas saber cuál va a ser el resto de otro cierto número *m* al dividirlo por *n*; esto es, el resto de la división *m/n*:"
      ]
    },
    {
      "cell_type": "code",
      "execution_count": null,
      "metadata": {
        "colab": {
          "base_uri": "https://localhost:8080/"
        },
        "id": "xQKL_jilIAnl",
        "outputId": "1d21b478-6ae1-4964-d607-d6bc63ad1e59"
      },
      "outputs": [
        {
          "output_type": "execute_result",
          "data": {
            "text/plain": [
              "0"
            ]
          },
          "metadata": {},
          "execution_count": 6
        }
      ],
      "source": [
        "4 % 2"
      ]
    },
    {
      "cell_type": "code",
      "execution_count": null,
      "metadata": {
        "colab": {
          "base_uri": "https://localhost:8080/"
        },
        "id": "h1jT43DmIAnm",
        "outputId": "09e20098-39fe-4c03-e5bd-cfcb2d447b17"
      },
      "outputs": [
        {
          "output_type": "execute_result",
          "data": {
            "text/plain": [
              "1"
            ]
          },
          "metadata": {},
          "execution_count": 7
        }
      ],
      "source": [
        "5 % 2"
      ]
    },
    {
      "cell_type": "markdown",
      "metadata": {
        "id": "6u1rXBsbJwXZ"
      },
      "source": [
        "Python también distingue las prodiedades numéricas tales como la asociativa o la distributiva"
      ]
    },
    {
      "cell_type": "code",
      "execution_count": null,
      "metadata": {
        "colab": {
          "base_uri": "https://localhost:8080/"
        },
        "id": "ziYONzRpIAnm",
        "outputId": "e5931aa2-c9f8-430c-d99b-9aa491e1ec8b"
      },
      "outputs": [
        {
          "output_type": "execute_result",
          "data": {
            "text/plain": [
              "50"
            ]
          },
          "metadata": {},
          "execution_count": 8
        }
      ],
      "source": [
        "(2 + 3) * (5 + 5)"
      ]
    },
    {
      "cell_type": "markdown",
      "metadata": {
        "id": "vjWY-nX5IAnm"
      },
      "source": [
        "### Asignación de variables"
      ]
    },
    {
      "cell_type": "markdown",
      "metadata": {
        "id": "8XixDh-uMgi1"
      },
      "source": [
        "Podemos localizar en Python variables para utilizarlas en distintas partes del código. Los nombres de las mismas no pueden comenzar por caracteres numéricos ni especiales:"
      ]
    },
    {
      "cell_type": "code",
      "execution_count": null,
      "metadata": {
        "collapsed": true,
        "id": "_eiMFh9MIAnn"
      },
      "outputs": [],
      "source": [
        "x = 2\n",
        "y = 3"
      ]
    },
    {
      "cell_type": "markdown",
      "metadata": {
        "id": "jTDtPSk5L-X8"
      },
      "source": [
        "Con dichas variables, en función del tipo que sean, también podrán operar entre ellas"
      ]
    },
    {
      "cell_type": "code",
      "execution_count": null,
      "metadata": {
        "collapsed": true,
        "id": "ykFv0EB7IAnn"
      },
      "outputs": [],
      "source": [
        "z = x / y"
      ]
    },
    {
      "cell_type": "code",
      "execution_count": null,
      "metadata": {
        "colab": {
          "base_uri": "https://localhost:8080/"
        },
        "id": "ENdod001IAnn",
        "outputId": "8321be51-632a-4e25-c59f-207a9b53d965"
      },
      "outputs": [
        {
          "output_type": "execute_result",
          "data": {
            "text/plain": [
              "0.6666666666666666"
            ]
          },
          "metadata": {},
          "execution_count": 14
        }
      ],
      "source": [
        "z"
      ]
    },
    {
      "cell_type": "markdown",
      "metadata": {
        "id": "DjeHwP03MPlG"
      },
      "source": [
        "Para consultar qué tipo de variable es, efectuamos:"
      ]
    },
    {
      "cell_type": "code",
      "execution_count": null,
      "metadata": {
        "colab": {
          "base_uri": "https://localhost:8080/"
        },
        "id": "ZSKmT3G3MR-o",
        "outputId": "c2977c1e-d0f3-4303-8d08-07e263234e52"
      },
      "outputs": [
        {
          "output_type": "execute_result",
          "data": {
            "text/plain": [
              "float"
            ]
          },
          "metadata": {},
          "execution_count": 15
        }
      ],
      "source": [
        "type(z)"
      ]
    },
    {
      "cell_type": "markdown",
      "metadata": {
        "id": "zyExv0v_IAnn"
      },
      "source": [
        "### Cadenas"
      ]
    },
    {
      "cell_type": "markdown",
      "metadata": {
        "id": "lxTxFpxYNIKe"
      },
      "source": [
        "Las cadenas o *strings* contienen texto, y podemos inicializarlas con un asterisco simple, *'*, o un asterisco doble, \":"
      ]
    },
    {
      "cell_type": "code",
      "execution_count": null,
      "metadata": {
        "colab": {
          "base_uri": "https://localhost:8080/",
          "height": 35
        },
        "id": "av6zmjDaIAno",
        "outputId": "b2226f78-4623-42e0-c102-25ba579889f4"
      },
      "outputs": [
        {
          "output_type": "execute_result",
          "data": {
            "text/plain": [
              "'Texto inicializado con asteriscos simples'"
            ],
            "application/vnd.google.colaboratory.intrinsic+json": {
              "type": "string"
            }
          },
          "metadata": {},
          "execution_count": 16
        }
      ],
      "source": [
        "'Texto inicializado con asteriscos simples'"
      ]
    },
    {
      "cell_type": "code",
      "execution_count": null,
      "metadata": {
        "colab": {
          "base_uri": "https://localhost:8080/",
          "height": 35
        },
        "id": "UCDKMnX3IAno",
        "outputId": "15ac52e8-fda2-40fa-c0b7-6ed290feca10"
      },
      "outputs": [
        {
          "output_type": "execute_result",
          "data": {
            "text/plain": [
              "'Texto inicializado con asteriscos dobles'"
            ],
            "application/vnd.google.colaboratory.intrinsic+json": {
              "type": "string"
            }
          },
          "metadata": {},
          "execution_count": 17
        }
      ],
      "source": [
        "\"Texto inicializado con asteriscos dobles\""
      ]
    },
    {
      "cell_type": "markdown",
      "metadata": {
        "id": "D7Qa5rYDNfKp"
      },
      "source": [
        "También podemos combinar ambos a fin de poder escribir contracciones y/u otras expresiones lingüísticas. En tal caso, el asterisco doble debe ser el que inicialice el texto, y usaremos el simple en el transcurso del mismo:"
      ]
    },
    {
      "cell_type": "code",
      "execution_count": null,
      "metadata": {
        "colab": {
          "base_uri": "https://localhost:8080/",
          "height": 35
        },
        "id": "mKj_lU00IAno",
        "outputId": "7d93a470-0c08-426b-ab02-7f384a36df6b"
      },
      "outputs": [
        {
          "output_type": "execute_result",
          "data": {
            "text/plain": [
              "\"Let's hit Python Crash Course!\""
            ],
            "application/vnd.google.colaboratory.intrinsic+json": {
              "type": "string"
            }
          },
          "metadata": {},
          "execution_count": 21
        }
      ],
      "source": [
        "\"Let's hit Python Crash Course!\""
      ]
    },
    {
      "cell_type": "markdown",
      "metadata": {
        "id": "ARTuMke3IAno"
      },
      "source": [
        "### Printing"
      ]
    },
    {
      "cell_type": "markdown",
      "metadata": {
        "id": "aVd0lRizOOgs"
      },
      "source": [
        "Es muy frecuente tener que mostrar variables por pantalla para poder comprobar los resultados de ciertos procesos. Para ello, creamos nuestra variable, que en este caso va a ser la clásica cadena *Hello world!*, y mostramos el comando en cuestión:"
      ]
    },
    {
      "cell_type": "code",
      "execution_count": null,
      "metadata": {
        "colab": {
          "base_uri": "https://localhost:8080/"
        },
        "collapsed": true,
        "id": "elTyrvcfIAno",
        "outputId": "6f56187e-119e-420b-a7a7-5adae21c9d35"
      },
      "outputs": [
        {
          "output_type": "stream",
          "name": "stdout",
          "text": [
            "Hello world!\n"
          ]
        }
      ],
      "source": [
        "x = 'Hello world!'\n",
        "print(x)"
      ]
    },
    {
      "cell_type": "markdown",
      "metadata": {
        "id": "EQgzu-YtOlym"
      },
      "source": [
        "De forma eventual, también se puede mostrar el valor de una variable sin necesidad de usar este comando, aunque *print()* es muy práctico cuando en una misma ejecución se mezclan diversas salidas por pantalla:"
      ]
    },
    {
      "cell_type": "code",
      "execution_count": null,
      "metadata": {
        "colab": {
          "base_uri": "https://localhost:8080/",
          "height": 35
        },
        "id": "WBXRifV6IAnp",
        "outputId": "4bbb22f4-4965-4e42-b336-386471f583cb"
      },
      "outputs": [
        {
          "output_type": "execute_result",
          "data": {
            "text/plain": [
              "'Hello world!'"
            ],
            "application/vnd.google.colaboratory.intrinsic+json": {
              "type": "string"
            }
          },
          "metadata": {},
          "execution_count": 23
        }
      ],
      "source": [
        "x"
      ]
    },
    {
      "cell_type": "markdown",
      "metadata": {
        "id": "r6nnkn5BOxHL"
      },
      "source": [
        "Veamos ahora cómo concatenar en un mismo *print()* diversas cadenas o valores concatenados:"
      ]
    },
    {
      "cell_type": "code",
      "execution_count": null,
      "metadata": {
        "collapsed": true,
        "id": "0Wvt67_zIAnp"
      },
      "outputs": [],
      "source": [
        "num = 12\n",
        "name = 'Sam'"
      ]
    },
    {
      "cell_type": "code",
      "execution_count": null,
      "metadata": {
        "colab": {
          "base_uri": "https://localhost:8080/"
        },
        "id": "avz1eEyPIAnp",
        "outputId": "6c85431d-fab8-48c6-b188-d78ffa779c18"
      },
      "outputs": [
        {
          "output_type": "stream",
          "name": "stdout",
          "text": [
            "My number is: 12, and my name is: Sam\n"
          ]
        }
      ],
      "source": [
        "print('My number is: {one}, and my name is: {two}'.format(one=num,two=name))"
      ]
    },
    {
      "cell_type": "markdown",
      "metadata": {
        "id": "Y1OxIo0DO55t"
      },
      "source": [
        "Si no especificamos el nombre de las variables en el método *.format()*, se mostrarán de manera ordenada:"
      ]
    },
    {
      "cell_type": "code",
      "execution_count": null,
      "metadata": {
        "colab": {
          "base_uri": "https://localhost:8080/"
        },
        "id": "mcpKQyfyIAnp",
        "outputId": "9fea48af-ebea-48fe-ed3c-ff0c35e09c58"
      },
      "outputs": [
        {
          "output_type": "stream",
          "name": "stdout",
          "text": [
            "My number is: 12, and my name is: Sam\n"
          ]
        }
      ],
      "source": [
        "print('My number is: {}, and my name is: {}'.format(num,name))"
      ]
    },
    {
      "cell_type": "code",
      "source": [
        "# f-strings: una forma alternativa de añadir variables a los textos\n",
        "print(f\"My number is: {num}, and my name is: {name}\")"
      ],
      "metadata": {
        "colab": {
          "base_uri": "https://localhost:8080/"
        },
        "id": "-ZVpfW4Xysc9",
        "outputId": "cddb0507-46cd-4fd7-fe9c-e41fa3984b59"
      },
      "execution_count": null,
      "outputs": [
        {
          "output_type": "stream",
          "name": "stdout",
          "text": [
            "My number is: 12, and my name is: Sam\n"
          ]
        }
      ]
    },
    {
      "cell_type": "markdown",
      "metadata": {
        "id": "MBzvssLCIAnq"
      },
      "source": [
        "### Listas"
      ]
    },
    {
      "cell_type": "markdown",
      "metadata": {
        "id": "PRrRwWFOPyeK"
      },
      "source": [
        "Las listas son uno de los datos más frecuentes en Python, en buena medida atribuído al uso de lo que se conocen como *listas de comprensión*, que veremos más adelante. Se inicializan mediante corchetes, y sus elementos se separan por comas. En ellas, se pueden incluir tanto números, como cadenas o incluso otras listas concatenadas:"
      ]
    },
    {
      "cell_type": "code",
      "execution_count": null,
      "metadata": {
        "colab": {
          "base_uri": "https://localhost:8080/"
        },
        "id": "3orJpwEFIAnq",
        "outputId": "8749146b-070c-4f95-83aa-fa74d61bdc08"
      },
      "outputs": [
        {
          "output_type": "execute_result",
          "data": {
            "text/plain": [
              "[1, 2, 3]"
            ]
          },
          "metadata": {},
          "execution_count": 31
        }
      ],
      "source": [
        "[1,2,3]"
      ]
    },
    {
      "cell_type": "code",
      "execution_count": null,
      "metadata": {
        "colab": {
          "base_uri": "https://localhost:8080/"
        },
        "id": "b1tOOjVxIAnq",
        "outputId": "d8cc5b25-9f37-40ab-ee46-80dc80558fa3"
      },
      "outputs": [
        {
          "output_type": "execute_result",
          "data": {
            "text/plain": [
              "['hi', 1, [1, 2]]"
            ]
          },
          "metadata": {},
          "execution_count": 32
        }
      ],
      "source": [
        "['hi',1,[1,2]]"
      ]
    },
    {
      "cell_type": "markdown",
      "metadata": {
        "id": "gqylFVzyQR9X"
      },
      "source": [
        "Una operación muy frecuente en las listas es el añadir elementos al final de la misma, para lo cual usamos el método *.append()*:"
      ]
    },
    {
      "cell_type": "code",
      "execution_count": null,
      "metadata": {
        "colab": {
          "base_uri": "https://localhost:8080/"
        },
        "collapsed": true,
        "id": "UnAvBju3IAnq",
        "outputId": "66d81a46-7bcd-4543-850e-92f9589e1559"
      },
      "outputs": [
        {
          "output_type": "stream",
          "name": "stdout",
          "text": [
            "Lista original: ['a', 'b', 'c']\n",
            "Lista con nuevos elementos: ['a', 'b', 'c', 'd']\n"
          ]
        }
      ],
      "source": [
        "sample_list = ['a','b','c']\n",
        "print(f\"Lista original: {sample_list}\")\n",
        "sample_list.append('d')\n",
        "print('Lista con nuevos elementos: {}'.format(sample_list))"
      ]
    },
    {
      "cell_type": "markdown",
      "metadata": {
        "id": "8v4N8YI-Qmd1"
      },
      "source": [
        "Para manejar los elementos de las listas, tendremos qeu saber cómo indexarlas. En el caso más elemental, los podemos obtener individualmente introduciendo al final de la misma entre corchetes el índice del elemento que deseamos recuperar *(**en Python, los índices comienzan por el valor cero**)*:"
      ]
    },
    {
      "cell_type": "code",
      "execution_count": null,
      "metadata": {
        "colab": {
          "base_uri": "https://localhost:8080/"
        },
        "id": "jmZjQrBJIAnr",
        "outputId": "782868c7-ad00-46a4-828b-f934024915b0"
      },
      "outputs": [
        {
          "output_type": "stream",
          "name": "stdout",
          "text": [
            "Lista completa: ['a', 'b', 'c', 'd']\n",
            "Primer elemento: a\n",
            "Segundo elemento: b\n"
          ]
        }
      ],
      "source": [
        "print('Lista completa: {}'.format(sample_list))\n",
        "print('Primer elemento: {}'.format(sample_list[0]))\n",
        "print('Segundo elemento: {}'.format(sample_list[1]))"
      ]
    },
    {
      "cell_type": "markdown",
      "metadata": {
        "id": "qU3PPI_XS2bv"
      },
      "source": [
        "A los elementos finales de la lista, podemos acceder directamente a través de su índice, o indexando números negativos, lo cual es muy práctico ya que mucha veces la longitud de la lista es variable o no conocemos dicha longitud:"
      ]
    },
    {
      "cell_type": "code",
      "execution_count": null,
      "metadata": {
        "colab": {
          "base_uri": "https://localhost:8080/"
        },
        "id": "6QOTPh62S8mh",
        "outputId": "8812e9ba-2397-412d-ec06-3c67d00be70e"
      },
      "outputs": [
        {
          "output_type": "stream",
          "name": "stdout",
          "text": [
            "Último elemento: d\n",
            "Último elemento usando índices negativos: d\n",
            "Penúltimo elemento: c\n",
            "Penúltimo elemento usando índices negativos: c\n"
          ]
        }
      ],
      "source": [
        "print('Último elemento: {}'.format(sample_list[3]))\n",
        "print('Último elemento usando índices negativos: {}'.format(sample_list[-1]))\n",
        "print('Penúltimo elemento: {}'.format(sample_list[2]))\n",
        "print('Penúltimo elemento usando índices negativos: {}'.format(sample_list[-2]))"
      ]
    },
    {
      "cell_type": "markdown",
      "metadata": {
        "id": "5walH54cQ0XD"
      },
      "source": [
        "Para obtener más de un elemento consecutivo, usaremos el símbolo *:*, teniendo en cuenta que en Python los intervalos se escogen de manera que se incluye el elemento inicial y se excluye el final:"
      ]
    },
    {
      "cell_type": "code",
      "source": [
        "# 'a' -> 0\n",
        "# 'b' -> 1\n",
        "# 'c' -> 2\n",
        "# 'd' -> 3"
      ],
      "metadata": {
        "id": "jvqOCgNq0zdg"
      },
      "execution_count": null,
      "outputs": []
    },
    {
      "cell_type": "code",
      "execution_count": null,
      "metadata": {
        "colab": {
          "base_uri": "https://localhost:8080/"
        },
        "id": "TBJO6GElIAnr",
        "outputId": "e8a598ad-776d-447d-9eb7-af30144e1e4c"
      },
      "outputs": [
        {
          "output_type": "execute_result",
          "data": {
            "text/plain": [
              "['a', 'b', 'c']"
            ]
          },
          "metadata": {},
          "execution_count": 44
        }
      ],
      "source": [
        "#En este caso, recuperaríamos los elementos de índices 1 y 2, ya que es excluyente por la derecha\n",
        "sample_list[:-1]"
      ]
    },
    {
      "cell_type": "markdown",
      "metadata": {
        "id": "hH9hW9JgRWfZ"
      },
      "source": [
        "Cuando omitimos uno de los extremos, se obtienen los elementos desde el principio o desde el final de la lista, respectivamente:"
      ]
    },
    {
      "cell_type": "code",
      "execution_count": null,
      "metadata": {
        "colab": {
          "base_uri": "https://localhost:8080/"
        },
        "id": "PJK44i8yIAnr",
        "outputId": "f1bc1f7b-7347-4252-fb63-dfab576b1fec"
      },
      "outputs": [
        {
          "output_type": "stream",
          "name": "stdout",
          "text": [
            "Lista completa: ['a', 'b', 'c', 'd']\n",
            "Elementos hasta el índice 1, sin incluir: ['a']\n",
            "Elementos desde el índice 1, incluido: ['b', 'c', 'd']\n"
          ]
        }
      ],
      "source": [
        "print('Lista completa: {}'.format(sample_list))\n",
        "print('Elementos hasta el índice 1, sin incluir: {}'.format(sample_list[:1]))\n",
        "print('Elementos desde el índice 1, incluido: {}'.format(sample_list[1:]))"
      ]
    },
    {
      "cell_type": "markdown",
      "metadata": {
        "id": "SvJwqUDjTWFP"
      },
      "source": [
        "También podemos reasignar nuevos valores a los elementos de la lista:"
      ]
    },
    {
      "cell_type": "code",
      "execution_count": null,
      "metadata": {
        "colab": {
          "base_uri": "https://localhost:8080/"
        },
        "collapsed": true,
        "id": "Q89gbss2IAns",
        "outputId": "584792d0-2eb7-4d43-8a2c-9a95dcc63592"
      },
      "outputs": [
        {
          "output_type": "stream",
          "name": "stdout",
          "text": [
            "Lista modificada: ['NEW', 'b', 'c', 'd']\n"
          ]
        }
      ],
      "source": [
        "sample_list[0] = 'NEW'\n",
        "print('Lista modificada: {}'.format(sample_list))"
      ]
    },
    {
      "cell_type": "markdown",
      "metadata": {
        "id": "UaO74gy4T0qa"
      },
      "source": [
        "Veamos ahora cómo indexar listas concatenadas:"
      ]
    },
    {
      "cell_type": "code",
      "execution_count": null,
      "metadata": {
        "collapsed": true,
        "id": "PIF3Jv2FIAns"
      },
      "outputs": [],
      "source": [
        "nest = [1,2,3,[4,5,['target']]]"
      ]
    },
    {
      "cell_type": "code",
      "execution_count": null,
      "metadata": {
        "colab": {
          "base_uri": "https://localhost:8080/"
        },
        "id": "GUsDO5nTIAns",
        "outputId": "7d9b60a9-768a-4e23-d8b7-0ab33715ce9c"
      },
      "outputs": [
        {
          "output_type": "stream",
          "name": "stdout",
          "text": [
            "Listas concatenadas: [1, 2, 3, [4, 5, ['target']]]\n",
            "Lista contenida en el último elemento de la lista original: [4, 5, ['target']]\n",
            "Último elemento de dicha lista: ['target']\n",
            "Accedemos a su único valor: target\n"
          ]
        }
      ],
      "source": [
        "print('Listas concatenadas: {}'.format(nest))\n",
        "print('Lista contenida en el último elemento de la lista original: {}'.format(nest[-1]))\n",
        "print('Último elemento de dicha lista: {}'.format(nest[-1][-1]))\n",
        "print('Accedemos a su único valor: {}'.format(nest[-1][-1][0]))"
      ]
    },
    {
      "cell_type": "markdown",
      "metadata": {
        "id": "9Fmb_XLIIAnt"
      },
      "source": [
        "### Diccionarios"
      ]
    },
    {
      "cell_type": "markdown",
      "metadata": {
        "id": "SlHhMz0RUwj0"
      },
      "source": [
        "Los diccionarios nos permiten asociar a unos objetos (llamados *keys*), otros objetos (llamados *values*), y se inicializan de la siguiente forma:"
      ]
    },
    {
      "cell_type": "code",
      "execution_count": null,
      "metadata": {
        "collapsed": true,
        "id": "Tp5Tu8BkIAnt"
      },
      "outputs": [],
      "source": [
        "d = {'Antonio':'Zarauz','key2':'value2'}"
      ]
    },
    {
      "cell_type": "markdown",
      "metadata": {
        "id": "7iKFQW_bVCDI"
      },
      "source": [
        "Para acceder a los respectivos valores de las *keys* y los *values*, hacemos:"
      ]
    },
    {
      "cell_type": "code",
      "execution_count": null,
      "metadata": {
        "colab": {
          "base_uri": "https://localhost:8080/"
        },
        "id": "MV8QkcmfIAnt",
        "outputId": "4fd3e372-0090-4d6c-b5c3-6c5898e9f7d0"
      },
      "outputs": [
        {
          "output_type": "execute_result",
          "data": {
            "text/plain": [
              "dict_keys(['Antonio', 'key2'])"
            ]
          },
          "metadata": {},
          "execution_count": 54
        }
      ],
      "source": [
        "d.keys()"
      ]
    },
    {
      "cell_type": "code",
      "execution_count": null,
      "metadata": {
        "colab": {
          "base_uri": "https://localhost:8080/"
        },
        "id": "o1kpfOb9Uq0c",
        "outputId": "c4690ade-d7fa-4d4c-cee9-f0583d418489"
      },
      "outputs": [
        {
          "output_type": "execute_result",
          "data": {
            "text/plain": [
              "dict_values(['Zarauz', 'value2'])"
            ]
          },
          "metadata": {},
          "execution_count": 55
        }
      ],
      "source": [
        "d.values()"
      ]
    },
    {
      "cell_type": "markdown",
      "metadata": {
        "id": "FyfrhH1_VGbC"
      },
      "source": [
        "Podemos también indexar los elementos de un diccionario introduciendo mediante corchetes una *key*, y nos devolverá su *value* asociado:"
      ]
    },
    {
      "cell_type": "code",
      "execution_count": null,
      "metadata": {
        "colab": {
          "base_uri": "https://localhost:8080/",
          "height": 35
        },
        "id": "iUjKIUa_IAnt",
        "outputId": "5c8aa7cb-45a7-4ed8-8659-0dc4bf9b231d"
      },
      "outputs": [
        {
          "output_type": "execute_result",
          "data": {
            "text/plain": [
              "'Zarauz'"
            ],
            "application/vnd.google.colaboratory.intrinsic+json": {
              "type": "string"
            }
          },
          "metadata": {},
          "execution_count": 57
        }
      ],
      "source": [
        "d['Antonio']"
      ]
    },
    {
      "cell_type": "markdown",
      "metadata": {
        "id": "a7Fr6Z_6IAnu"
      },
      "source": [
        "### Booleanos"
      ]
    },
    {
      "cell_type": "markdown",
      "metadata": {
        "id": "WLpFU_tGVZG4"
      },
      "source": [
        "Son las conocidas variables *True* y *False*, mediante las cuales podremos más adelante dar instrucciones a expresiones condicionales:"
      ]
    },
    {
      "cell_type": "code",
      "execution_count": null,
      "metadata": {
        "colab": {
          "base_uri": "https://localhost:8080/"
        },
        "id": "vzkDrK4tIAnu",
        "outputId": "6529231c-a988-42ba-c509-d565e42c619b"
      },
      "outputs": [
        {
          "output_type": "execute_result",
          "data": {
            "text/plain": [
              "True"
            ]
          },
          "metadata": {},
          "execution_count": 59
        }
      ],
      "source": [
        "True"
      ]
    },
    {
      "cell_type": "code",
      "execution_count": null,
      "metadata": {
        "colab": {
          "base_uri": "https://localhost:8080/"
        },
        "id": "QjhtHMGKIAnu",
        "outputId": "0c326b5c-d46e-4c8f-e55b-a0b3a8c27021"
      },
      "outputs": [
        {
          "output_type": "execute_result",
          "data": {
            "text/plain": [
              "False"
            ]
          },
          "metadata": {},
          "execution_count": 60
        }
      ],
      "source": [
        "False"
      ]
    },
    {
      "cell_type": "markdown",
      "metadata": {
        "id": "6gPY78GwIAnu"
      },
      "source": [
        "### Tuples"
      ]
    },
    {
      "cell_type": "markdown",
      "metadata": {
        "id": "ulePkvynpBTl"
      },
      "source": [
        "Se utilizan para guardar múltiples valores en una única variable, y su orden es fijo."
      ]
    },
    {
      "cell_type": "code",
      "execution_count": null,
      "metadata": {
        "collapsed": true,
        "id": "fLBRGa8lIAnu"
      },
      "outputs": [],
      "source": [
        "t = (1,2,3)"
      ]
    },
    {
      "cell_type": "code",
      "execution_count": null,
      "metadata": {
        "colab": {
          "base_uri": "https://localhost:8080/"
        },
        "id": "Z6wgdFDxIAnu",
        "outputId": "10d254fa-d5f3-4071-f691-7a0cbf50e667"
      },
      "outputs": [
        {
          "output_type": "execute_result",
          "data": {
            "text/plain": [
              "1"
            ]
          },
          "metadata": {},
          "execution_count": 66
        }
      ],
      "source": [
        "t[0]"
      ]
    },
    {
      "cell_type": "code",
      "execution_count": null,
      "metadata": {
        "id": "_reXb2VFIAnv",
        "colab": {
          "base_uri": "https://localhost:8080/",
          "height": 141
        },
        "outputId": "4e02e2ca-6a8a-48ff-bc5c-3dd4df5725ff"
      },
      "outputs": [
        {
          "output_type": "error",
          "ename": "TypeError",
          "evalue": "'tuple' object does not support item assignment",
          "traceback": [
            "\u001b[0;31m---------------------------------------------------------------------------\u001b[0m",
            "\u001b[0;31mTypeError\u001b[0m                                 Traceback (most recent call last)",
            "\u001b[0;32m/tmp/ipython-input-67-2140988817.py\u001b[0m in \u001b[0;36m<cell line: 0>\u001b[0;34m()\u001b[0m\n\u001b[0;32m----> 1\u001b[0;31m \u001b[0mt\u001b[0m\u001b[0;34m[\u001b[0m\u001b[0;36m0\u001b[0m\u001b[0;34m]\u001b[0m \u001b[0;34m=\u001b[0m \u001b[0;34m'NEW'\u001b[0m\u001b[0;34m\u001b[0m\u001b[0;34m\u001b[0m\u001b[0m\n\u001b[0m",
            "\u001b[0;31mTypeError\u001b[0m: 'tuple' object does not support item assignment"
          ]
        }
      ],
      "source": [
        "t[0] = 'NEW'"
      ]
    },
    {
      "cell_type": "markdown",
      "metadata": {
        "id": "F4VCnL89IAnv"
      },
      "source": [
        "### Sets"
      ]
    },
    {
      "cell_type": "markdown",
      "metadata": {
        "id": "7Quf8MhtpT5f"
      },
      "source": [
        "Se utilizan para guardar múltiples valores en una única variable, y no tienen orden ni indexación, ni admiten duplicados."
      ]
    },
    {
      "cell_type": "code",
      "execution_count": null,
      "metadata": {
        "id": "MA2_hUHjIAnv",
        "colab": {
          "base_uri": "https://localhost:8080/"
        },
        "outputId": "490d875e-a698-4ce9-b12e-8dddc4364783"
      },
      "outputs": [
        {
          "output_type": "execute_result",
          "data": {
            "text/plain": [
              "{1, 2, 3}"
            ]
          },
          "metadata": {},
          "execution_count": 68
        }
      ],
      "source": [
        "{1,2,3}"
      ]
    },
    {
      "cell_type": "code",
      "execution_count": null,
      "metadata": {
        "colab": {
          "base_uri": "https://localhost:8080/"
        },
        "id": "sd5odPH5IAnv",
        "outputId": "0e56aa19-8fa2-47b5-b170-9387c0794c74"
      },
      "outputs": [
        {
          "output_type": "execute_result",
          "data": {
            "text/plain": [
              "{1, 2, 3}"
            ]
          },
          "metadata": {},
          "execution_count": 69
        }
      ],
      "source": [
        "{1,2,3,1,2,1,2,3,3,3,3,2,2,2,1,1,2}"
      ]
    },
    {
      "cell_type": "markdown",
      "metadata": {
        "id": "o0Jq9WPxIAnv"
      },
      "source": [
        "## Operadores de comparación"
      ]
    },
    {
      "cell_type": "code",
      "execution_count": null,
      "metadata": {
        "id": "XR2BrfjkIAnw"
      },
      "outputs": [],
      "source": [
        "1 > 2"
      ]
    },
    {
      "cell_type": "code",
      "execution_count": null,
      "metadata": {
        "id": "QFiip40IIAnw"
      },
      "outputs": [],
      "source": [
        "1 < 2"
      ]
    },
    {
      "cell_type": "code",
      "execution_count": null,
      "metadata": {
        "id": "CI4oXQPAIAnw"
      },
      "outputs": [],
      "source": [
        "1 >= 1"
      ]
    },
    {
      "cell_type": "code",
      "execution_count": null,
      "metadata": {
        "id": "4NOnSx5lIAnw"
      },
      "outputs": [],
      "source": [
        "1 <= 4"
      ]
    },
    {
      "cell_type": "code",
      "execution_count": null,
      "metadata": {
        "id": "TFb8bHGrIAnw"
      },
      "outputs": [],
      "source": [
        "1 == 1"
      ]
    },
    {
      "cell_type": "code",
      "execution_count": null,
      "metadata": {
        "id": "UZCV6nJnIAnx"
      },
      "outputs": [],
      "source": [
        "'hi' == 'bye'"
      ]
    },
    {
      "cell_type": "markdown",
      "metadata": {
        "id": "rXb0jGAXIAnx"
      },
      "source": [
        "## Operadores lógicos"
      ]
    },
    {
      "cell_type": "code",
      "execution_count": null,
      "metadata": {
        "id": "GrxVEInJIAnx"
      },
      "outputs": [],
      "source": [
        "(1 > 2) and (2 < 3)"
      ]
    },
    {
      "cell_type": "code",
      "execution_count": null,
      "metadata": {
        "id": "KKj18cRHIAnx"
      },
      "outputs": [],
      "source": [
        "(1 > 2) or (2 < 3)"
      ]
    },
    {
      "cell_type": "code",
      "execution_count": null,
      "metadata": {
        "id": "vcV9trbKIAnx"
      },
      "outputs": [],
      "source": [
        "(1 == 2) or (2 == 3) or (4 == 4)"
      ]
    },
    {
      "cell_type": "markdown",
      "metadata": {
        "id": "feZvqlHlIAny"
      },
      "source": [
        "## Sentencias condicionales"
      ]
    },
    {
      "cell_type": "code",
      "execution_count": null,
      "metadata": {
        "id": "wTSTR7tBIAny"
      },
      "outputs": [],
      "source": [
        "if 1 < 2:\n",
        "    print('Yep!')"
      ]
    },
    {
      "cell_type": "code",
      "execution_count": null,
      "metadata": {
        "id": "dimEyV36IAny"
      },
      "outputs": [],
      "source": [
        "if 1 < 2:\n",
        "    print('yep!')"
      ]
    },
    {
      "cell_type": "code",
      "execution_count": null,
      "metadata": {
        "id": "jJIikgLBIAny"
      },
      "outputs": [],
      "source": [
        "if 1 < 2:\n",
        "    print('first')\n",
        "else:\n",
        "    print('last')"
      ]
    },
    {
      "cell_type": "code",
      "execution_count": null,
      "metadata": {
        "id": "LNTzaYwQIAny"
      },
      "outputs": [],
      "source": [
        "if 1 > 2:\n",
        "    print('first')\n",
        "else:\n",
        "    print('last')"
      ]
    },
    {
      "cell_type": "code",
      "execution_count": null,
      "metadata": {
        "id": "g19o-Zd-IAnz"
      },
      "outputs": [],
      "source": [
        "if 1 == 2:\n",
        "    print('first')\n",
        "elif 3 == 3:\n",
        "    print('middle')\n",
        "else:\n",
        "    print('Last')"
      ]
    },
    {
      "cell_type": "markdown",
      "metadata": {
        "id": "-NxTpQB3IAn1"
      },
      "source": [
        "## Bucles *for*"
      ]
    },
    {
      "cell_type": "code",
      "execution_count": null,
      "metadata": {
        "id": "j4GNQPR2IAn1"
      },
      "outputs": [],
      "source": [
        "seq = [1,2,3,4,5]"
      ]
    },
    {
      "cell_type": "code",
      "execution_count": null,
      "metadata": {
        "colab": {
          "base_uri": "https://localhost:8080/"
        },
        "id": "B77DDKUQIAn1",
        "outputId": "a6aff612-fe58-421e-eab1-55d9084c2205"
      },
      "outputs": [
        {
          "name": "stdout",
          "output_type": "stream",
          "text": [
            "1\n",
            "2\n",
            "3\n",
            "4\n",
            "5\n"
          ]
        }
      ],
      "source": [
        "for item in seq:\n",
        "    print(item)"
      ]
    },
    {
      "cell_type": "code",
      "execution_count": null,
      "metadata": {
        "colab": {
          "base_uri": "https://localhost:8080/"
        },
        "id": "ejrJtXMrIAn1",
        "outputId": "d15d4dd7-a2dc-4316-fca7-bca56bc47412"
      },
      "outputs": [
        {
          "name": "stdout",
          "output_type": "stream",
          "text": [
            "Yep\n",
            "Yep\n",
            "Yep\n",
            "Yep\n",
            "Yep\n"
          ]
        }
      ],
      "source": [
        "for item in seq:\n",
        "    print('Yep')"
      ]
    },
    {
      "cell_type": "code",
      "execution_count": null,
      "metadata": {
        "id": "O60Rq1CtIAn2"
      },
      "outputs": [],
      "source": [
        "for jelly in seq:\n",
        "    print(jelly+jelly)"
      ]
    },
    {
      "cell_type": "markdown",
      "metadata": {
        "id": "OYnLgvS6IAn2"
      },
      "source": [
        "## Bucles *while*"
      ]
    },
    {
      "cell_type": "code",
      "execution_count": null,
      "metadata": {
        "colab": {
          "base_uri": "https://localhost:8080/"
        },
        "id": "W9SeaVFrIAn2",
        "outputId": "ee4a6f5e-e75f-4fef-f1cd-12baf8bb0ed2"
      },
      "outputs": [
        {
          "name": "stdout",
          "output_type": "stream",
          "text": [
            "i is: 1\n",
            "i is: 2\n",
            "i is: 3\n",
            "i is: 4\n"
          ]
        }
      ],
      "source": [
        "i = 1\n",
        "while i < 5:\n",
        "    print('i is: {}'.format(i))\n",
        "    i = i+1"
      ]
    },
    {
      "cell_type": "markdown",
      "metadata": {
        "id": "vb44NunUIAn2"
      },
      "source": [
        "## range()"
      ]
    },
    {
      "cell_type": "code",
      "execution_count": null,
      "metadata": {
        "colab": {
          "base_uri": "https://localhost:8080/"
        },
        "id": "ShxCpbhQIAn2",
        "outputId": "32592f5f-3e13-4e46-9517-674bbca98a95"
      },
      "outputs": [
        {
          "data": {
            "text/plain": [
              "range(0, 5)"
            ]
          },
          "execution_count": 7,
          "metadata": {},
          "output_type": "execute_result"
        }
      ],
      "source": [
        "range(5)"
      ]
    },
    {
      "cell_type": "code",
      "execution_count": null,
      "metadata": {
        "colab": {
          "base_uri": "https://localhost:8080/"
        },
        "id": "cnvvJuPRIAn3",
        "outputId": "f97828db-539c-475e-e653-8467bcd4ea69"
      },
      "outputs": [
        {
          "name": "stdout",
          "output_type": "stream",
          "text": [
            "0\n",
            "1\n",
            "2\n",
            "3\n",
            "4\n"
          ]
        }
      ],
      "source": [
        "for i in range(5):\n",
        "    print(i)"
      ]
    },
    {
      "cell_type": "code",
      "execution_count": null,
      "metadata": {
        "colab": {
          "base_uri": "https://localhost:8080/"
        },
        "id": "NzIO38Y2IAn3",
        "outputId": "6037e9bf-9dac-4507-e46c-02d142a42f7e"
      },
      "outputs": [
        {
          "data": {
            "text/plain": [
              "[0, 1, 2, 3, 4]"
            ]
          },
          "execution_count": 9,
          "metadata": {},
          "output_type": "execute_result"
        }
      ],
      "source": [
        "list(range(5))"
      ]
    },
    {
      "cell_type": "markdown",
      "metadata": {
        "id": "1TcByr16IAn3"
      },
      "source": [
        "## Listas de comprensión"
      ]
    },
    {
      "cell_type": "code",
      "execution_count": null,
      "metadata": {
        "collapsed": true,
        "id": "DsUohnnGIAn3"
      },
      "outputs": [],
      "source": [
        "x = [1,2,3,4]"
      ]
    },
    {
      "cell_type": "code",
      "execution_count": null,
      "metadata": {
        "colab": {
          "base_uri": "https://localhost:8080/"
        },
        "id": "O3luiv8PIAn3",
        "outputId": "8fea5532-bb44-4041-84c3-278bf51dd790"
      },
      "outputs": [
        {
          "name": "stdout",
          "output_type": "stream",
          "text": [
            "[1, 4, 9, 16]\n"
          ]
        }
      ],
      "source": [
        "out = []\n",
        "for item in x:\n",
        "    out.append(item**2)\n",
        "print(out)"
      ]
    },
    {
      "cell_type": "code",
      "execution_count": null,
      "metadata": {
        "colab": {
          "base_uri": "https://localhost:8080/"
        },
        "id": "AW7u_lPxIAn3",
        "outputId": "ee41b97c-89b8-465d-c02f-17d410194fbd"
      },
      "outputs": [
        {
          "data": {
            "text/plain": [
              "[1, 4, 9, 16]"
            ]
          },
          "execution_count": 12,
          "metadata": {},
          "output_type": "execute_result"
        }
      ],
      "source": [
        "[item**2 for item in x]"
      ]
    },
    {
      "cell_type": "markdown",
      "metadata": {
        "id": "0ljCGrRNIAn4"
      },
      "source": [
        "## Funciones"
      ]
    },
    {
      "cell_type": "code",
      "execution_count": null,
      "metadata": {
        "collapsed": true,
        "id": "_JLFcEFMIAn4"
      },
      "outputs": [],
      "source": [
        "def my_func(param1='default'):\n",
        "    \"\"\"\n",
        "    Docstring goes here.\n",
        "    \"\"\"\n",
        "    print(param1)"
      ]
    },
    {
      "cell_type": "code",
      "execution_count": null,
      "metadata": {
        "colab": {
          "base_uri": "https://localhost:8080/"
        },
        "id": "XbR1VcTGIAn4",
        "outputId": "6bf63cc6-8c0c-4f71-e422-712691f7e904"
      },
      "outputs": [
        {
          "data": {
            "text/plain": [
              "<function __main__.my_func>"
            ]
          },
          "execution_count": 14,
          "metadata": {},
          "output_type": "execute_result"
        }
      ],
      "source": [
        "my_func"
      ]
    },
    {
      "cell_type": "code",
      "execution_count": null,
      "metadata": {
        "colab": {
          "base_uri": "https://localhost:8080/"
        },
        "id": "JAMR4JqmIAn4",
        "outputId": "cb6709cd-28ed-42e6-d64b-1ae1a442a9d6"
      },
      "outputs": [
        {
          "name": "stdout",
          "output_type": "stream",
          "text": [
            "default\n"
          ]
        }
      ],
      "source": [
        "my_func()"
      ]
    },
    {
      "cell_type": "code",
      "execution_count": null,
      "metadata": {
        "colab": {
          "base_uri": "https://localhost:8080/"
        },
        "id": "L1p6UxB6IAn4",
        "outputId": "1b2763fb-e191-4537-ce24-cfc0e10e41cb"
      },
      "outputs": [
        {
          "name": "stdout",
          "output_type": "stream",
          "text": [
            "new param\n"
          ]
        }
      ],
      "source": [
        "my_func('new param')"
      ]
    },
    {
      "cell_type": "code",
      "execution_count": null,
      "metadata": {
        "colab": {
          "base_uri": "https://localhost:8080/"
        },
        "id": "SqBFGzNhIAn5",
        "outputId": "86b3d1d7-75c7-4ef6-dacc-b29962b0a46f"
      },
      "outputs": [
        {
          "name": "stdout",
          "output_type": "stream",
          "text": [
            "new param\n"
          ]
        }
      ],
      "source": [
        "my_func(param1='new param')"
      ]
    },
    {
      "cell_type": "code",
      "execution_count": null,
      "metadata": {
        "collapsed": true,
        "id": "0P1ytFbMIAn5"
      },
      "outputs": [],
      "source": [
        "def square(x):\n",
        "    return x**2"
      ]
    },
    {
      "cell_type": "code",
      "execution_count": null,
      "metadata": {
        "collapsed": true,
        "id": "R-CTRDoBIAn5"
      },
      "outputs": [],
      "source": [
        "out = square(2)"
      ]
    },
    {
      "cell_type": "code",
      "execution_count": null,
      "metadata": {
        "colab": {
          "base_uri": "https://localhost:8080/"
        },
        "id": "Bh5ZQ_mxIAn5",
        "outputId": "ae2b8391-a6ab-4bb6-f086-046a556636fd",
        "scrolled": true
      },
      "outputs": [
        {
          "name": "stdout",
          "output_type": "stream",
          "text": [
            "4\n"
          ]
        }
      ],
      "source": [
        "print(out)"
      ]
    },
    {
      "cell_type": "markdown",
      "metadata": {
        "id": "t6l21gdcIAn5"
      },
      "source": [
        "## Expresiones lambda"
      ]
    },
    {
      "cell_type": "markdown",
      "metadata": {
        "id": "0F9ecz3op59l"
      },
      "source": [
        "La versatilidad que tienen las funciones lambda se ve cuando se usan de manera anónima dentro de otra función:"
      ]
    },
    {
      "cell_type": "code",
      "execution_count": null,
      "metadata": {
        "collapsed": true,
        "id": "Zx1MWbJRIAn5"
      },
      "outputs": [],
      "source": [
        "def times2(var):\n",
        "    return var*2"
      ]
    },
    {
      "cell_type": "code",
      "execution_count": null,
      "metadata": {
        "colab": {
          "base_uri": "https://localhost:8080/"
        },
        "id": "-2VPs6YMIAn6",
        "outputId": "19a8f9c4-1420-456b-c596-9bac818bb235"
      },
      "outputs": [
        {
          "data": {
            "text/plain": [
              "4"
            ]
          },
          "execution_count": 22,
          "metadata": {},
          "output_type": "execute_result"
        }
      ],
      "source": [
        "times2(2)"
      ]
    },
    {
      "cell_type": "code",
      "execution_count": null,
      "metadata": {
        "colab": {
          "base_uri": "https://localhost:8080/"
        },
        "id": "Ab_5NqJHIAn6",
        "outputId": "6d464778-d46a-41d5-e7df-36457401aea4"
      },
      "outputs": [
        {
          "data": {
            "text/plain": [
              "<function __main__.<lambda>>"
            ]
          },
          "execution_count": 27,
          "metadata": {},
          "output_type": "execute_result"
        }
      ],
      "source": [
        "lambda var: var*2\n"
      ]
    },
    {
      "cell_type": "markdown",
      "metadata": {
        "id": "LqUucrkTIAn6"
      },
      "source": [
        "## map/filter"
      ]
    },
    {
      "cell_type": "code",
      "execution_count": null,
      "metadata": {
        "collapsed": true,
        "id": "rj6dSpiCIAn6"
      },
      "outputs": [],
      "source": [
        "seq = [1,2,3,4,5]"
      ]
    },
    {
      "cell_type": "code",
      "execution_count": null,
      "metadata": {
        "colab": {
          "base_uri": "https://localhost:8080/"
        },
        "id": "2D7h1I9LIAn6",
        "outputId": "1e7863b3-b736-47c3-8e97-3d854979088e"
      },
      "outputs": [
        {
          "data": {
            "text/plain": [
              "<map at 0x7f19a912aed0>"
            ]
          },
          "execution_count": 32,
          "metadata": {},
          "output_type": "execute_result"
        }
      ],
      "source": [
        "map(times2,seq)"
      ]
    },
    {
      "cell_type": "code",
      "execution_count": null,
      "metadata": {
        "colab": {
          "base_uri": "https://localhost:8080/"
        },
        "id": "1G5MzIL-IAn6",
        "outputId": "c9aa59b2-d45c-4860-e6e1-c6a52736a9e9"
      },
      "outputs": [
        {
          "data": {
            "text/plain": [
              "[2, 4, 6, 8, 10]"
            ]
          },
          "execution_count": 4,
          "metadata": {
            "tags": []
          },
          "output_type": "execute_result"
        }
      ],
      "source": [
        "list(map(times2,seq))"
      ]
    },
    {
      "cell_type": "code",
      "execution_count": null,
      "metadata": {
        "colab": {
          "base_uri": "https://localhost:8080/"
        },
        "id": "Ss7u_AkcIAn7",
        "outputId": "1b53ea6a-6764-4b55-8e1a-1b4ee4ce3d42"
      },
      "outputs": [
        {
          "data": {
            "text/plain": [
              "[2, 4, 6, 8, 10]"
            ]
          },
          "execution_count": 5,
          "metadata": {
            "tags": []
          },
          "output_type": "execute_result"
        }
      ],
      "source": [
        "list(map(lambda var: var*2,seq))"
      ]
    },
    {
      "cell_type": "code",
      "execution_count": null,
      "metadata": {
        "colab": {
          "base_uri": "https://localhost:8080/"
        },
        "id": "4WR9er6KIAn7",
        "outputId": "df6f6a12-5a45-4ddb-b796-f7aa33e80ac8"
      },
      "outputs": [
        {
          "data": {
            "text/plain": [
              "<filter at 0x7fbd1a3f7210>"
            ]
          },
          "execution_count": 6,
          "metadata": {
            "tags": []
          },
          "output_type": "execute_result"
        }
      ],
      "source": [
        "filter(lambda item: item%2 == 0,seq)"
      ]
    },
    {
      "cell_type": "code",
      "execution_count": null,
      "metadata": {
        "colab": {
          "base_uri": "https://localhost:8080/"
        },
        "id": "btm0Ai21IAn7",
        "outputId": "9b6897be-9a34-430c-9c88-8b8495b96c2e"
      },
      "outputs": [
        {
          "data": {
            "text/plain": [
              "[2, 4]"
            ]
          },
          "execution_count": 7,
          "metadata": {
            "tags": []
          },
          "output_type": "execute_result"
        }
      ],
      "source": [
        "list(filter(lambda item: item%2 == 0,seq))"
      ]
    },
    {
      "cell_type": "markdown",
      "metadata": {
        "id": "Ho_mosrLIAn7"
      },
      "source": [
        "## Métodos"
      ]
    },
    {
      "cell_type": "code",
      "execution_count": null,
      "metadata": {
        "collapsed": true,
        "id": "BsbfZNwDIAn7"
      },
      "outputs": [],
      "source": [
        "st = 'hello my name is Sam'"
      ]
    },
    {
      "cell_type": "code",
      "execution_count": null,
      "metadata": {
        "colab": {
          "base_uri": "https://localhost:8080/",
          "height": 36
        },
        "id": "i908ToeoIAn8",
        "outputId": "c69c8491-660b-4967-be6b-d3609e591a01"
      },
      "outputs": [
        {
          "data": {
            "application/vnd.google.colaboratory.intrinsic+json": {
              "type": "string"
            },
            "text/plain": [
              "'hello my name is sam'"
            ]
          },
          "execution_count": 34,
          "metadata": {},
          "output_type": "execute_result"
        }
      ],
      "source": [
        "st.lower()"
      ]
    },
    {
      "cell_type": "code",
      "execution_count": null,
      "metadata": {
        "colab": {
          "base_uri": "https://localhost:8080/",
          "height": 36
        },
        "id": "yLhqtixwIAn8",
        "outputId": "cbd00bfa-7c7d-4b11-b755-4ddd0ec58020"
      },
      "outputs": [
        {
          "data": {
            "application/vnd.google.colaboratory.intrinsic+json": {
              "type": "string"
            },
            "text/plain": [
              "'HELLO MY NAME IS SAM'"
            ]
          },
          "execution_count": 35,
          "metadata": {},
          "output_type": "execute_result"
        }
      ],
      "source": [
        "st.upper()"
      ]
    },
    {
      "cell_type": "code",
      "execution_count": null,
      "metadata": {
        "colab": {
          "base_uri": "https://localhost:8080/"
        },
        "id": "L5adKlTuIAn8",
        "outputId": "0b6f69b2-2590-4715-8acc-9aa92850cbdc"
      },
      "outputs": [
        {
          "data": {
            "text/plain": [
              "['hello', 'my', 'name', 'is', 'Sam']"
            ]
          },
          "execution_count": 36,
          "metadata": {},
          "output_type": "execute_result"
        }
      ],
      "source": [
        "st.split()"
      ]
    },
    {
      "cell_type": "code",
      "execution_count": null,
      "metadata": {
        "collapsed": true,
        "id": "o-H4SdK5IAn8"
      },
      "outputs": [],
      "source": [
        "tweet = 'Go Sports! #Sports'"
      ]
    },
    {
      "cell_type": "code",
      "execution_count": null,
      "metadata": {
        "colab": {
          "base_uri": "https://localhost:8080/"
        },
        "id": "zo4-b_TNIAn8",
        "outputId": "cbc363c5-d602-4cb9-b2c9-657e194c45cd"
      },
      "outputs": [
        {
          "data": {
            "text/plain": [
              "['Go Sports! ', 'Sports']"
            ]
          },
          "execution_count": 38,
          "metadata": {},
          "output_type": "execute_result"
        }
      ],
      "source": [
        "tweet.split('#')"
      ]
    },
    {
      "cell_type": "code",
      "execution_count": null,
      "metadata": {
        "colab": {
          "base_uri": "https://localhost:8080/",
          "height": 36
        },
        "id": "9NGMrXgsIAn9",
        "outputId": "1fb7f509-fff4-47c8-9802-ce61bb88bbe2"
      },
      "outputs": [
        {
          "data": {
            "application/vnd.google.colaboratory.intrinsic+json": {
              "type": "string"
            },
            "text/plain": [
              "'Sports'"
            ]
          },
          "execution_count": 39,
          "metadata": {},
          "output_type": "execute_result"
        }
      ],
      "source": [
        "tweet.split('#')[1]"
      ]
    },
    {
      "cell_type": "code",
      "execution_count": null,
      "metadata": {
        "colab": {
          "base_uri": "https://localhost:8080/"
        },
        "id": "6zeazsNmIAn9",
        "outputId": "2fe56e18-5828-4907-a3be-2a2a87103e87"
      },
      "outputs": [
        {
          "data": {
            "text/plain": [
              "{'key1': 'value1', 'key2': 'value2'}"
            ]
          },
          "execution_count": 47,
          "metadata": {},
          "output_type": "execute_result"
        }
      ],
      "source": [
        "d"
      ]
    },
    {
      "cell_type": "code",
      "execution_count": null,
      "metadata": {
        "colab": {
          "base_uri": "https://localhost:8080/"
        },
        "id": "B_kXJfUEIAn9",
        "outputId": "39a21182-a4a5-4bab-f1f3-5da4919b12c9"
      },
      "outputs": [
        {
          "data": {
            "text/plain": [
              "dict_keys(['key1', 'key2'])"
            ]
          },
          "execution_count": 48,
          "metadata": {},
          "output_type": "execute_result"
        }
      ],
      "source": [
        "d.keys()"
      ]
    },
    {
      "cell_type": "code",
      "execution_count": null,
      "metadata": {
        "colab": {
          "base_uri": "https://localhost:8080/"
        },
        "id": "2rFH5jEqIAn9",
        "outputId": "19b8b8a0-93db-49a1-cd2c-d0adb7d40591"
      },
      "outputs": [
        {
          "data": {
            "text/plain": [
              "dict_items([('key1', 'value1'), ('key2', 'value2')])"
            ]
          },
          "execution_count": 49,
          "metadata": {},
          "output_type": "execute_result"
        }
      ],
      "source": [
        "d.items()"
      ]
    },
    {
      "cell_type": "code",
      "execution_count": null,
      "metadata": {
        "collapsed": true,
        "id": "vJcKvUarIAn9"
      },
      "outputs": [],
      "source": [
        "lst = [1,2,3]"
      ]
    },
    {
      "cell_type": "code",
      "execution_count": null,
      "metadata": {
        "colab": {
          "base_uri": "https://localhost:8080/"
        },
        "id": "lVtmnNWdIAn9",
        "outputId": "bf57a5d4-6a58-4e02-b917-8a0b47da4935"
      },
      "outputs": [
        {
          "data": {
            "text/plain": [
              "3"
            ]
          },
          "execution_count": 51,
          "metadata": {},
          "output_type": "execute_result"
        }
      ],
      "source": [
        "lst.pop()"
      ]
    },
    {
      "cell_type": "code",
      "execution_count": null,
      "metadata": {
        "colab": {
          "base_uri": "https://localhost:8080/"
        },
        "id": "GgEW5EDOIAn-",
        "outputId": "a2ce2122-4478-43e4-c96e-4633735af51b"
      },
      "outputs": [
        {
          "data": {
            "text/plain": [
              "[1, 2]"
            ]
          },
          "execution_count": 52,
          "metadata": {},
          "output_type": "execute_result"
        }
      ],
      "source": [
        "lst"
      ]
    },
    {
      "cell_type": "code",
      "execution_count": null,
      "metadata": {
        "colab": {
          "base_uri": "https://localhost:8080/"
        },
        "id": "hwqLOIYCIAn-",
        "outputId": "4e97f3ec-6417-4d15-be5d-6de3f8256864"
      },
      "outputs": [
        {
          "data": {
            "text/plain": [
              "False"
            ]
          },
          "execution_count": 53,
          "metadata": {},
          "output_type": "execute_result"
        }
      ],
      "source": [
        "'x' in [1,2,3]"
      ]
    },
    {
      "cell_type": "code",
      "execution_count": null,
      "metadata": {
        "colab": {
          "base_uri": "https://localhost:8080/"
        },
        "id": "b8n27oG1IAn-",
        "outputId": "195dd1bc-9c3d-4ad6-c66c-704c1ad349cb"
      },
      "outputs": [
        {
          "data": {
            "text/plain": [
              "True"
            ]
          },
          "execution_count": 54,
          "metadata": {},
          "output_type": "execute_result"
        }
      ],
      "source": [
        "'x' in ['x','y','z']"
      ]
    },
    {
      "cell_type": "markdown",
      "metadata": {
        "id": "tKs_aQlRD6mz"
      },
      "source": [
        "## Clases\n",
        "Las clases son uno de los conceptos más importantes en Python, pues nos permiten mediante una serie de métodos e implementaciones automatizar procesos."
      ]
    },
    {
      "cell_type": "markdown",
      "metadata": {
        "id": "HKQk14qyEK_Q"
      },
      "source": [
        "*  En primer lugar, para crear nuestra clase utilizamos la palabra clave 'class' seguido del nombre de dicha clase. Los métodos se definen utilizando la misma sintaxis que cualquier otra función.\n",
        "```python\n",
        "class MyPrimerMetodo:\n",
        "```\n",
        "\n",
        "*  Posteriormente, será preciso incluir un método particular, llamado `__init__`, que nos permitirá inicializar una serie de parámetros clave a la vez que instanciamos la clase:\n",
        "\n",
        "```python\n",
        "class MyPrimerMetodo:\n",
        "  #Primer método inicializador\n",
        "  def __init__(self, param_1):\n",
        "    self.param_1 = param_1\n",
        "```\n",
        "\n",
        "* Todos los métodos tienen como primer parámetro el identificador `self` que hace referencia al objeto que llamó a dicho método. Dentro de la función diferenciaremos los atributos del objeto utilizando el identificador self seguido de un punto y el nombre del atributo. Separando de esta manera las variables de nuestro objeto con otras variables que utilicemos como apoyo en nuestras funciones. Veamos un ejemplo:\n",
        "\n",
        "```python\n",
        "# declaramos la clase persona\n",
        "class Persona:\n",
        "    # declaramos el método __init__\n",
        "    def __init__(self):\n",
        "        self.nombre=input(\"Ingrese el nombre: \")\n",
        "        self.edad=int(input(\"Ingrese la edad: \"))\n",
        "\n",
        "    # declaramos el método mostrar\n",
        "    def mostrar(self):\n",
        "        print(\"Nombre: \",self.nombre)\n",
        "        print(\"Edad: \",self.edad)\n",
        "```\n",
        "\n",
        "* En este caso, vemos que solicitamos la información como entrada para computar. Esta información también podría pedirse para inicializar la clase."
      ]
    },
    {
      "cell_type": "markdown",
      "metadata": {
        "id": "CZiUm8b4F5nP"
      },
      "source": [
        "### Herencia de clases\n",
        "\n",
        "En Python dos clases además de poder tener una relación de colaboración, también pueden tener una relación de herencia. Por herencia, entendemos que se pueden crear nuevas clases partiendo de otras clases ya existentes, que heredarán todos los atributos y métodos de su clase padre además, de poder añadir los suyos propios.\n",
        "\n",
        "Por ejemplo, si tenemos una clase llamada vehículo, esta sería la clase padre de las clases coche, moto, bicicleta… Cada una de estas subclases tendría los atributos y métodos de su padre vehículo y aparte tendrían sus propios métodos cada uno de ellos. Vamos a verlo con un ejemplo práctico:\n",
        "\n",
        "```python\n",
        "# Declaramos la clase empleado\n",
        "# La clase empleado hereda los atributos y métodos de la clase Persona\n",
        "class Empleado(Persona):\n",
        "    # Declaramos el método __init__\n",
        "    def __init__(self):\n",
        "        # Llamamos al método init de la clase padre\n",
        "        # Utilizamos la funcion super() para hacer referencia al padre\n",
        "        super().__init__()\n",
        "        self.sueldo=float(input(\"Ingrese el sueldo: \"))\n",
        "\n",
        "    # declaramos el metodo mostrar\n",
        "    def mostrar(self):\n",
        "        super().mostrar()\n",
        "        print(\"Sueldo: \",self.sueldo)\n",
        "\n",
        "    # Declaramos el método pagar_impuestos\n",
        "    # Comprobará si el empleado debe pagar o no\n",
        "    def pagar_impuestos(self):\n",
        "        if self.sueldo > 3000:\n",
        "            print(\"El empleado debe pagar impuestos.\")\n",
        "        else:\n",
        "            print(\"El empleado no paga impuestos.\")\n",
        "```\n",
        "\n",
        "Para inicializar esta calse, hacemos:\n",
        "\n",
        "```python\n",
        "employee = Empleado()\n",
        "```\n",
        "\n",
        "A los métodos los llamamos a partir de este:\n",
        "\n",
        "```python\n",
        "employee.mostrar()\n",
        "employee.pagar_impuestos()\n",
        "```"
      ]
    },
    {
      "cell_type": "markdown",
      "source": [
        "### Estructuras de datos\n",
        "\n",
        "Además de las clases, Python ofrece una serie de estructuras de datos fundamentales que nos permiten organizar y manipular información de manera eficiente. Comprender estas estructuras es crucial para escribir código robusto y optimizado, ya que cada una está diseñada para casos de uso específicos. La elección de la estructura de datos adecuada depende de los requisitos de tu aplicación en cuanto a orden, mutabilidad y acceso a los datos.\n",
        "\n",
        "A medida que las aplicaciones crecen en complejidad y manejan grandes volúmenes de datos, la validación y gestión de los tipos de datos se vuelve crucial. Aquí es donde entra en juego Pydantic, una biblioteca de Python que facilita la definición y validación de esquemas de datos utilizando type hints de Python.\n",
        "\n",
        "Pydantic permite definir modelos de datos de forma clara y concisa, aplicando automáticamente la validación de tipos, conversión de datos (coercion) y proporcionando una excelente experiencia para el desarrollador. Es ampliamente utilizado en frameworks como FastAPI para la validación de datos de entrada y salida de APIs.\n",
        "\n",
        "Para usar Pydantic, primero necesitas instalarlo:"
      ],
      "metadata": {
        "id": "8Dyrbh5mMGq1"
      }
    },
    {
      "cell_type": "code",
      "execution_count": null,
      "metadata": {
        "id": "iZUsVNxlHLcE"
      },
      "outputs": [],
      "source": [
        "!pip install pydantic"
      ]
    },
    {
      "cell_type": "markdown",
      "source": [
        "Una vez instalado, puedes definir tus modelos de datos heredando de BaseModel de Pydantic."
      ],
      "metadata": {
        "id": "nlimVG32MVSy"
      }
    },
    {
      "cell_type": "code",
      "source": [
        "from pydantic import BaseModel, Field\n",
        "from typing import Optional\n",
        "\n",
        "# Definimos un modelo de usuario con Pydantic\n",
        "class User(BaseModel):\n",
        "    # Campos requeridos\n",
        "    id: int\n",
        "    name: str = Field(min_length=3, max_length=50) # name es str, con validación de longitud\n",
        "    email: str # email es str\n",
        "\n",
        "    # Campo opcional, puede ser None\n",
        "    age: Optional[int] = None\n",
        "\n",
        "    # Campo con valor por defecto\n",
        "    is_active: bool = True\n",
        "\n",
        "# Para crear una instancia de nuestro modelo de datos, simplemente pasamos los datos\n",
        "# como argumentos clave-valor al constructor. Pydantic validará automáticamente.\n",
        "try:\n",
        "    # Creación de un usuario válido\n",
        "    user1 = User(id=1, name=\"Alice Johnson\", email=\"alice@example.com\")\n",
        "    print(user1.model_dump_json(indent=2)) # Muestra el modelo en formato JSON\n",
        "\n",
        "    # Creación de un usuario con edad\n",
        "    user2 = User(id=2, name=\"Bob Smith\", email=\"bob@example.com\", age=25)\n",
        "    print(user2.model_dump_json(indent=2))\n",
        "\n",
        "    # Intentar crear un usuario con un nombre demasiado corto (causará un ValidationError)\n",
        "    user3 = User(id=3, name=\"Bo\", email=\"bob@example.com\")\n",
        "except Exception as e:\n",
        "    print(f\"Error al crear usuario: {e}\")\n",
        "\n",
        "# Pydantic también permite acceder a los atributos como en una clase normal\n",
        "print(f\"Nombre del usuario 1: {user1.name}\")\n",
        "\n",
        "# Pydantic es excelente para convertir datos de diferentes fuentes (JSON, diccionarios)\n",
        "# a objetos Python fuertemente tipados.\n",
        "data = {\n",
        "    \"id\": \"4\", # Pydantic convertirá \"4\" a int\n",
        "    \"name\": \"Charlie\",\n",
        "    \"email\": \"charlie@example.com\",\n",
        "    \"is_active\": \"False\" # Pydantic convertirá \"False\" a bool\n",
        "}\n",
        "user4 = User(**data)\n",
        "print(user4.model_dump_json(indent=2))"
      ],
      "metadata": {
        "id": "zmYhP2zxMWU-"
      },
      "execution_count": null,
      "outputs": []
    },
    {
      "cell_type": "markdown",
      "source": [
        "En este ejemplo, Pydantic:\n",
        "\n",
        "1. Valida que id sea un entero, name y email sean cadenas de texto.\n",
        "2. Aplica la validación de longitud para name (min_length y max_length).\n",
        "3. Permite que age sea opcional y de tipo entero, o None.\n",
        "4. Establece un valor por defecto para is_active.\n",
        "5. Realiza coerción de tipos, es decir, convierte automáticamente valores de un tipo a otro compatible (ej. de string \"4\" a int 4, o de string \"False\" a boolean False) siempre que sea posible.\n",
        "\n",
        "Pydantic mejora significativamente la robustez de las aplicaciones al asegurar que los datos cumplen con las expectativas definidas, reduciendo errores y facilitando la depuración. Es una herramienta indispensable en el desarrollo de APIs y aplicaciones donde la integridad de los datos es primordial."
      ],
      "metadata": {
        "id": "5JMPFQBdMZeU"
      }
    }
  ],
  "metadata": {
    "colab": {
      "collapsed_sections": [
        "vjWY-nX5IAnm",
        "zyExv0v_IAnn",
        "ARTuMke3IAno",
        "MBzvssLCIAnq",
        "9Fmb_XLIIAnt",
        "a7Fr6Z_6IAnu",
        "6gPY78GwIAnu",
        "F4VCnL89IAnv"
      ],
      "provenance": []
    },
    "kernelspec": {
      "display_name": "Python 3.10.7 64-bit",
      "language": "python",
      "name": "python3"
    },
    "language_info": {
      "codemirror_mode": {
        "name": "ipython",
        "version": 3
      },
      "file_extension": ".py",
      "mimetype": "text/x-python",
      "name": "python",
      "nbconvert_exporter": "python",
      "pygments_lexer": "ipython3",
      "version": "3.10.7"
    },
    "vscode": {
      "interpreter": {
        "hash": "7f101298a403ed7b5f80e8b3e5071aceef33be7a802873c0a4e9b622a6dda1bb"
      }
    }
  },
  "nbformat": 4,
  "nbformat_minor": 0
}